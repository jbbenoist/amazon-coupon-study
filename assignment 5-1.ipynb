{
 "cells": [
  {
   "cell_type": "markdown",
   "metadata": {
    "id": "CcUT6Fon_qRE"
   },
   "source": [
    "### Required Assignment 5.1: Will the Customer Accept the Coupon?\n",
    "\n",
    "**Context**\n",
    "\n",
    "Imagine driving through town and a coupon is delivered to your cell phone for a restaurant near where you are driving. Would you accept that coupon and take a short detour to the restaurant? Would you accept the coupon but use it on a subsequent trip? Would you ignore the coupon entirely? What if the coupon was for a bar instead of a restaurant? What about a coffee house? Would you accept a bar coupon with a minor passenger in the car? What about if it was just you and your partner in the car? Would weather impact the rate of acceptance? What about the time of day?\n",
    "\n",
    "Obviously, proximity to the business is a factor on whether the coupon is delivered to the driver or not, but what are the factors that determine whether a driver accepts the coupon once it is delivered to them? How would you determine whether a driver is likely to accept a coupon?\n",
    "\n",
    "**Overview**\n",
    "\n",
    "The goal of this project is to use what you know about visualizations and probability distributions to distinguish between customers who accepted a driving coupon versus those that did not.\n",
    "\n",
    "**Data**\n",
    "\n",
    "This data comes to us from the UCI Machine Learning repository and was collected via a survey on Amazon Mechanical Turk. The survey describes different driving scenarios including the destination, current time, weather, passenger, etc., and then ask the person whether he will accept the coupon if he is the driver. Answers that the user will drive there ‘right away’ or ‘later before the coupon expires’ are labeled as ‘Y = 1’ and answers ‘no, I do not want the coupon’ are labeled as ‘Y = 0’.  There are five different types of coupons -- less expensive restaurants (under \\$20), coffee houses, carry out & take away, bar, and more expensive restaurants (\\$20 - $50)."
   ]
  },
  {
   "cell_type": "markdown",
   "metadata": {
    "id": "1wORvMBJ_qRF"
   },
   "source": [
    "**Deliverables**\n",
    "\n",
    "Your final product should be a brief report that highlights the differences between customers who did and did not accept the coupons.  To explore the data you will utilize your knowledge of plotting, statistical summaries, and visualization using Python. You will publish your findings in a public facing github repository as your first portfolio piece.\n",
    "\n",
    "\n",
    "\n"
   ]
  },
  {
   "cell_type": "markdown",
   "metadata": {
    "id": "pG6_Ym6q_qRG"
   },
   "source": [
    "### Data Description\n",
    "Keep in mind that these values mentioned below are average values.\n",
    "\n",
    "The attributes of this data set include:\n",
    "1. User attributes\n",
    "    -  Gender: male, female\n",
    "    -  Age: below 21, 21 to 25, 26 to 30, etc.\n",
    "    -  Marital Status: single, married partner, unmarried partner, or widowed\n",
    "    -  Number of children: 0, 1, or more than 1\n",
    "    -  Education: high school, bachelors degree, associates degree, or graduate degree\n",
    "    -  Occupation: architecture & engineering, business & financial, etc.\n",
    "    -  Annual income: less than \\\\$12500, \\\\$12500 - \\\\$24999, \\\\$25000 - \\\\$37499, etc.\n",
    "    -  Number of times that he/she goes to a bar: 0, less than 1, 1 to 3, 4 to 8 or greater than 8\n",
    "    -  Number of times that he/she buys takeaway food: 0, less than 1, 1 to 3, 4 to 8 or greater\n",
    "    than 8\n",
    "    -  Number of times that he/she goes to a coffee house: 0, less than 1, 1 to 3, 4 to 8 or\n",
    "    greater than 8\n",
    "    -  Number of times that he/she eats at a restaurant with average expense less than \\\\$20 per\n",
    "    person: 0, less than 1, 1 to 3, 4 to 8 or greater than 8\n",
    "    -  Number of times that he/she goes to a bar: 0, less than 1, 1 to 3, 4 to 8 or greater than 8\n",
    "    \n",
    "\n",
    "2. Contextual attributes\n",
    "    - Driving destination: home, work, or no urgent destination\n",
    "    - Location of user, coupon and destination: we provide a map to show the geographical\n",
    "    location of the user, destination, and the venue, and we mark the distance between each\n",
    "    two places with time of driving. The user can see whether the venue is in the same\n",
    "    direction as the destination.\n",
    "    - Weather: sunny, rainy, or snowy\n",
    "    - Temperature: 30F, 55F, or 80F\n",
    "    - Time: 10AM, 2PM, or 6PM\n",
    "    - Passenger: alone, partner, kid(s), or friend(s)\n",
    "\n",
    "\n",
    "3. Coupon attributes\n",
    "    - time before it expires: 2 hours or one day"
   ]
  },
  {
   "cell_type": "code",
   "execution_count": 4,
   "metadata": {
    "ExecuteTime": {
     "end_time": "2024-09-29T17:56:34.104983Z",
     "start_time": "2024-09-29T17:56:34.102781Z"
    },
    "id": "dzNoP3o__qRG"
   },
   "outputs": [],
   "source": [
    "import matplotlib.pyplot as plt\n",
    "import seaborn as sns\n",
    "import pandas as pd\n",
    "import numpy as np"
   ]
  },
  {
   "cell_type": "markdown",
   "metadata": {
    "id": "Ct8pI1uE_qRG"
   },
   "source": [
    "### Problems\n",
    "\n",
    "Use the prompts below to get started with your data analysis.  \n",
    "\n",
    "1. Read in the `coupons.csv` file.\n",
    "\n",
    "\n"
   ]
  },
  {
   "cell_type": "code",
   "execution_count": 6,
   "metadata": {
    "ExecuteTime": {
     "end_time": "2024-09-29T17:56:35.991741Z",
     "start_time": "2024-09-29T17:56:35.956110Z"
    },
    "id": "X0vbffYg_qRH"
   },
   "outputs": [],
   "source": [
    "data = pd.read_csv('data/coupons.csv')"
   ]
  },
  {
   "cell_type": "code",
   "execution_count": 7,
   "metadata": {
    "ExecuteTime": {
     "end_time": "2024-09-29T17:57:13.385503Z",
     "start_time": "2024-09-29T17:57:13.375818Z"
    },
    "id": "TXofQ_DF_qRH",
    "outputId": "2fc96a2c-1112-4b54-f24f-dbb9bc88abfb"
   },
   "outputs": [
    {
     "data": {
      "text/html": [
       "<div>\n",
       "<style scoped>\n",
       "    .dataframe tbody tr th:only-of-type {\n",
       "        vertical-align: middle;\n",
       "    }\n",
       "\n",
       "    .dataframe tbody tr th {\n",
       "        vertical-align: top;\n",
       "    }\n",
       "\n",
       "    .dataframe thead th {\n",
       "        text-align: right;\n",
       "    }\n",
       "</style>\n",
       "<table border=\"1\" class=\"dataframe\">\n",
       "  <thead>\n",
       "    <tr style=\"text-align: right;\">\n",
       "      <th></th>\n",
       "      <th>destination</th>\n",
       "      <th>passanger</th>\n",
       "      <th>weather</th>\n",
       "      <th>temperature</th>\n",
       "      <th>time</th>\n",
       "      <th>coupon</th>\n",
       "      <th>expiration</th>\n",
       "      <th>gender</th>\n",
       "      <th>age</th>\n",
       "      <th>maritalStatus</th>\n",
       "      <th>...</th>\n",
       "      <th>CoffeeHouse</th>\n",
       "      <th>CarryAway</th>\n",
       "      <th>RestaurantLessThan20</th>\n",
       "      <th>Restaurant20To50</th>\n",
       "      <th>toCoupon_GEQ5min</th>\n",
       "      <th>toCoupon_GEQ15min</th>\n",
       "      <th>toCoupon_GEQ25min</th>\n",
       "      <th>direction_same</th>\n",
       "      <th>direction_opp</th>\n",
       "      <th>Y</th>\n",
       "    </tr>\n",
       "  </thead>\n",
       "  <tbody>\n",
       "    <tr>\n",
       "      <th>0</th>\n",
       "      <td>No Urgent Place</td>\n",
       "      <td>Alone</td>\n",
       "      <td>Sunny</td>\n",
       "      <td>55</td>\n",
       "      <td>2PM</td>\n",
       "      <td>Restaurant(&lt;20)</td>\n",
       "      <td>1d</td>\n",
       "      <td>Female</td>\n",
       "      <td>21</td>\n",
       "      <td>Unmarried partner</td>\n",
       "      <td>...</td>\n",
       "      <td>never</td>\n",
       "      <td>NaN</td>\n",
       "      <td>4~8</td>\n",
       "      <td>1~3</td>\n",
       "      <td>1</td>\n",
       "      <td>0</td>\n",
       "      <td>0</td>\n",
       "      <td>0</td>\n",
       "      <td>1</td>\n",
       "      <td>1</td>\n",
       "    </tr>\n",
       "    <tr>\n",
       "      <th>1</th>\n",
       "      <td>No Urgent Place</td>\n",
       "      <td>Friend(s)</td>\n",
       "      <td>Sunny</td>\n",
       "      <td>80</td>\n",
       "      <td>10AM</td>\n",
       "      <td>Coffee House</td>\n",
       "      <td>2h</td>\n",
       "      <td>Female</td>\n",
       "      <td>21</td>\n",
       "      <td>Unmarried partner</td>\n",
       "      <td>...</td>\n",
       "      <td>never</td>\n",
       "      <td>NaN</td>\n",
       "      <td>4~8</td>\n",
       "      <td>1~3</td>\n",
       "      <td>1</td>\n",
       "      <td>0</td>\n",
       "      <td>0</td>\n",
       "      <td>0</td>\n",
       "      <td>1</td>\n",
       "      <td>0</td>\n",
       "    </tr>\n",
       "    <tr>\n",
       "      <th>2</th>\n",
       "      <td>No Urgent Place</td>\n",
       "      <td>Friend(s)</td>\n",
       "      <td>Sunny</td>\n",
       "      <td>80</td>\n",
       "      <td>10AM</td>\n",
       "      <td>Carry out &amp; Take away</td>\n",
       "      <td>2h</td>\n",
       "      <td>Female</td>\n",
       "      <td>21</td>\n",
       "      <td>Unmarried partner</td>\n",
       "      <td>...</td>\n",
       "      <td>never</td>\n",
       "      <td>NaN</td>\n",
       "      <td>4~8</td>\n",
       "      <td>1~3</td>\n",
       "      <td>1</td>\n",
       "      <td>1</td>\n",
       "      <td>0</td>\n",
       "      <td>0</td>\n",
       "      <td>1</td>\n",
       "      <td>1</td>\n",
       "    </tr>\n",
       "    <tr>\n",
       "      <th>3</th>\n",
       "      <td>No Urgent Place</td>\n",
       "      <td>Friend(s)</td>\n",
       "      <td>Sunny</td>\n",
       "      <td>80</td>\n",
       "      <td>2PM</td>\n",
       "      <td>Coffee House</td>\n",
       "      <td>2h</td>\n",
       "      <td>Female</td>\n",
       "      <td>21</td>\n",
       "      <td>Unmarried partner</td>\n",
       "      <td>...</td>\n",
       "      <td>never</td>\n",
       "      <td>NaN</td>\n",
       "      <td>4~8</td>\n",
       "      <td>1~3</td>\n",
       "      <td>1</td>\n",
       "      <td>1</td>\n",
       "      <td>0</td>\n",
       "      <td>0</td>\n",
       "      <td>1</td>\n",
       "      <td>0</td>\n",
       "    </tr>\n",
       "    <tr>\n",
       "      <th>4</th>\n",
       "      <td>No Urgent Place</td>\n",
       "      <td>Friend(s)</td>\n",
       "      <td>Sunny</td>\n",
       "      <td>80</td>\n",
       "      <td>2PM</td>\n",
       "      <td>Coffee House</td>\n",
       "      <td>1d</td>\n",
       "      <td>Female</td>\n",
       "      <td>21</td>\n",
       "      <td>Unmarried partner</td>\n",
       "      <td>...</td>\n",
       "      <td>never</td>\n",
       "      <td>NaN</td>\n",
       "      <td>4~8</td>\n",
       "      <td>1~3</td>\n",
       "      <td>1</td>\n",
       "      <td>1</td>\n",
       "      <td>0</td>\n",
       "      <td>0</td>\n",
       "      <td>1</td>\n",
       "      <td>0</td>\n",
       "    </tr>\n",
       "  </tbody>\n",
       "</table>\n",
       "<p>5 rows × 26 columns</p>\n",
       "</div>"
      ],
      "text/plain": [
       "       destination  passanger weather  temperature  time  \\\n",
       "0  No Urgent Place      Alone   Sunny           55   2PM   \n",
       "1  No Urgent Place  Friend(s)   Sunny           80  10AM   \n",
       "2  No Urgent Place  Friend(s)   Sunny           80  10AM   \n",
       "3  No Urgent Place  Friend(s)   Sunny           80   2PM   \n",
       "4  No Urgent Place  Friend(s)   Sunny           80   2PM   \n",
       "\n",
       "                  coupon expiration  gender age      maritalStatus  ...  \\\n",
       "0        Restaurant(<20)         1d  Female  21  Unmarried partner  ...   \n",
       "1           Coffee House         2h  Female  21  Unmarried partner  ...   \n",
       "2  Carry out & Take away         2h  Female  21  Unmarried partner  ...   \n",
       "3           Coffee House         2h  Female  21  Unmarried partner  ...   \n",
       "4           Coffee House         1d  Female  21  Unmarried partner  ...   \n",
       "\n",
       "   CoffeeHouse CarryAway RestaurantLessThan20 Restaurant20To50  \\\n",
       "0        never       NaN                  4~8              1~3   \n",
       "1        never       NaN                  4~8              1~3   \n",
       "2        never       NaN                  4~8              1~3   \n",
       "3        never       NaN                  4~8              1~3   \n",
       "4        never       NaN                  4~8              1~3   \n",
       "\n",
       "  toCoupon_GEQ5min toCoupon_GEQ15min toCoupon_GEQ25min direction_same  \\\n",
       "0                1                 0                 0              0   \n",
       "1                1                 0                 0              0   \n",
       "2                1                 1                 0              0   \n",
       "3                1                 1                 0              0   \n",
       "4                1                 1                 0              0   \n",
       "\n",
       "  direction_opp  Y  \n",
       "0             1  1  \n",
       "1             1  0  \n",
       "2             1  1  \n",
       "3             1  0  \n",
       "4             1  0  \n",
       "\n",
       "[5 rows x 26 columns]"
      ]
     },
     "execution_count": 7,
     "metadata": {},
     "output_type": "execute_result"
    }
   ],
   "source": [
    "data.head()"
   ]
  },
  {
   "cell_type": "markdown",
   "metadata": {
    "id": "GcDs78ZH_qRH"
   },
   "source": [
    "2. Investigate the dataset for missing or problematic data."
   ]
  },
  {
   "cell_type": "code",
   "execution_count": 9,
   "metadata": {},
   "outputs": [
    {
     "data": {
      "text/plain": [
       "car                     12576\n",
       "Bar                       107\n",
       "CoffeeHouse               217\n",
       "CarryAway                 151\n",
       "RestaurantLessThan20      130\n",
       "Restaurant20To50          189\n",
       "dtype: int64"
      ]
     },
     "execution_count": 9,
     "metadata": {},
     "output_type": "execute_result"
    }
   ],
   "source": [
    "data.isnull().sum()[data.isnull().sum() > 0]"
   ]
  },
  {
   "cell_type": "markdown",
   "metadata": {},
   "source": [
    "We can observe that there are 5 columns that contain missing data: [`car`, `Bar`, `CoffeeHouse`, `CarryAway`, `RestaurantLessThan20`, `Restaurant20To50`]. For four of them the data missing is pretty low compare to the 12684 rows, even if the missing data is spreaded in different rows and we were dropping each of them we would only lose 6.26% of our data. For the fifth row: the car one, the column has approximatively 99% of the data missing so it could be interesting to see if this column is valuable or not to maybe drop it."
   ]
  },
  {
   "cell_type": "markdown",
   "metadata": {},
   "source": [
    "In the next cells I will check all the values inside each column to check if we have any corrupted data inside the different columns."
   ]
  },
  {
   "cell_type": "code",
   "execution_count": 12,
   "metadata": {
    "ExecuteTime": {
     "end_time": "2024-09-29T18:01:15.471558Z",
     "start_time": "2024-09-29T18:01:15.464323Z"
    },
    "id": "6CwL6oWj_qRH"
   },
   "outputs": [
    {
     "data": {
      "text/plain": [
       "destination\n",
       "No Urgent Place    6283\n",
       "Home               3237\n",
       "Work               3164\n",
       "Name: count, dtype: int64"
      ]
     },
     "execution_count": 12,
     "metadata": {},
     "output_type": "execute_result"
    }
   ],
   "source": [
    "data['destination'].value_counts()"
   ]
  },
  {
   "cell_type": "code",
   "execution_count": 13,
   "metadata": {},
   "outputs": [
    {
     "data": {
      "text/plain": [
       "passanger\n",
       "Alone        7305\n",
       "Friend(s)    3298\n",
       "Partner      1075\n",
       "Kid(s)       1006\n",
       "Name: count, dtype: int64"
      ]
     },
     "execution_count": 13,
     "metadata": {},
     "output_type": "execute_result"
    }
   ],
   "source": [
    "data['passanger'].value_counts()"
   ]
  },
  {
   "cell_type": "code",
   "execution_count": 14,
   "metadata": {},
   "outputs": [
    {
     "data": {
      "text/plain": [
       "weather\n",
       "Sunny    10069\n",
       "Snowy     1405\n",
       "Rainy     1210\n",
       "Name: count, dtype: int64"
      ]
     },
     "execution_count": 14,
     "metadata": {},
     "output_type": "execute_result"
    }
   ],
   "source": [
    "data['weather'].value_counts()"
   ]
  },
  {
   "cell_type": "code",
   "execution_count": 15,
   "metadata": {},
   "outputs": [
    {
     "data": {
      "text/plain": [
       "temperature\n",
       "80    6528\n",
       "55    3840\n",
       "30    2316\n",
       "Name: count, dtype: int64"
      ]
     },
     "execution_count": 15,
     "metadata": {},
     "output_type": "execute_result"
    }
   ],
   "source": [
    "data['temperature'].value_counts()"
   ]
  },
  {
   "cell_type": "code",
   "execution_count": 16,
   "metadata": {},
   "outputs": [
    {
     "data": {
      "text/plain": [
       "time\n",
       "6PM     3230\n",
       "7AM     3164\n",
       "10AM    2275\n",
       "2PM     2009\n",
       "10PM    2006\n",
       "Name: count, dtype: int64"
      ]
     },
     "execution_count": 16,
     "metadata": {},
     "output_type": "execute_result"
    }
   ],
   "source": [
    "data['time'].value_counts()"
   ]
  },
  {
   "cell_type": "code",
   "execution_count": 17,
   "metadata": {},
   "outputs": [
    {
     "data": {
      "text/plain": [
       "coupon\n",
       "Coffee House             3996\n",
       "Restaurant(<20)          2786\n",
       "Carry out & Take away    2393\n",
       "Bar                      2017\n",
       "Restaurant(20-50)        1492\n",
       "Name: count, dtype: int64"
      ]
     },
     "execution_count": 17,
     "metadata": {},
     "output_type": "execute_result"
    }
   ],
   "source": [
    "data['coupon'].value_counts()"
   ]
  },
  {
   "cell_type": "code",
   "execution_count": 18,
   "metadata": {},
   "outputs": [
    {
     "data": {
      "text/plain": [
       "expiration\n",
       "1d    7091\n",
       "2h    5593\n",
       "Name: count, dtype: int64"
      ]
     },
     "execution_count": 18,
     "metadata": {},
     "output_type": "execute_result"
    }
   ],
   "source": [
    "data['expiration'].value_counts()"
   ]
  },
  {
   "cell_type": "code",
   "execution_count": 19,
   "metadata": {},
   "outputs": [
    {
     "data": {
      "text/plain": [
       "gender\n",
       "Female    6511\n",
       "Male      6173\n",
       "Name: count, dtype: int64"
      ]
     },
     "execution_count": 19,
     "metadata": {},
     "output_type": "execute_result"
    }
   ],
   "source": [
    "data['gender'].value_counts()"
   ]
  },
  {
   "cell_type": "code",
   "execution_count": 20,
   "metadata": {},
   "outputs": [
    {
     "data": {
      "text/plain": [
       "age\n",
       "21         2653\n",
       "26         2559\n",
       "31         2039\n",
       "50plus     1788\n",
       "36         1319\n",
       "41         1093\n",
       "46          686\n",
       "below21     547\n",
       "Name: count, dtype: int64"
      ]
     },
     "execution_count": 20,
     "metadata": {},
     "output_type": "execute_result"
    }
   ],
   "source": [
    "data['age'].value_counts()"
   ]
  },
  {
   "cell_type": "code",
   "execution_count": 21,
   "metadata": {},
   "outputs": [
    {
     "data": {
      "text/plain": [
       "maritalStatus\n",
       "Married partner      5100\n",
       "Single               4752\n",
       "Unmarried partner    2186\n",
       "Divorced              516\n",
       "Widowed               130\n",
       "Name: count, dtype: int64"
      ]
     },
     "execution_count": 21,
     "metadata": {},
     "output_type": "execute_result"
    }
   ],
   "source": [
    "data['maritalStatus'].value_counts()"
   ]
  },
  {
   "cell_type": "code",
   "execution_count": 22,
   "metadata": {},
   "outputs": [
    {
     "data": {
      "text/plain": [
       "has_children\n",
       "0    7431\n",
       "1    5253\n",
       "Name: count, dtype: int64"
      ]
     },
     "execution_count": 22,
     "metadata": {},
     "output_type": "execute_result"
    }
   ],
   "source": [
    "data['has_children'].value_counts()"
   ]
  },
  {
   "cell_type": "code",
   "execution_count": 23,
   "metadata": {},
   "outputs": [
    {
     "data": {
      "text/plain": [
       "education\n",
       "Some college - no degree                  4351\n",
       "Bachelors degree                          4335\n",
       "Graduate degree (Masters or Doctorate)    1852\n",
       "Associates degree                         1153\n",
       "High School Graduate                       905\n",
       "Some High School                            88\n",
       "Name: count, dtype: int64"
      ]
     },
     "execution_count": 23,
     "metadata": {},
     "output_type": "execute_result"
    }
   ],
   "source": [
    "data['education'].value_counts()"
   ]
  },
  {
   "cell_type": "code",
   "execution_count": 24,
   "metadata": {},
   "outputs": [
    {
     "data": {
      "text/plain": [
       "occupation\n",
       "Unemployed                                   1870\n",
       "Student                                      1584\n",
       "Computer & Mathematical                      1408\n",
       "Sales & Related                              1093\n",
       "Education&Training&Library                    943\n",
       "Management                                    838\n",
       "Office & Administrative Support               639\n",
       "Arts Design Entertainment Sports & Media      629\n",
       "Business & Financial                          544\n",
       "Retired                                       495\n",
       "Food Preparation & Serving Related            298\n",
       "Healthcare Practitioners & Technical          244\n",
       "Healthcare Support                            242\n",
       "Community & Social Services                   241\n",
       "Legal                                         219\n",
       "Transportation & Material Moving              218\n",
       "Architecture & Engineering                    175\n",
       "Personal Care & Service                       175\n",
       "Protective Service                            175\n",
       "Life Physical Social Science                  170\n",
       "Construction & Extraction                     154\n",
       "Installation Maintenance & Repair             133\n",
       "Production Occupations                        110\n",
       "Building & Grounds Cleaning & Maintenance      44\n",
       "Farming Fishing & Forestry                     43\n",
       "Name: count, dtype: int64"
      ]
     },
     "execution_count": 24,
     "metadata": {},
     "output_type": "execute_result"
    }
   ],
   "source": [
    "data['occupation'].value_counts()"
   ]
  },
  {
   "cell_type": "code",
   "execution_count": 25,
   "metadata": {},
   "outputs": [
    {
     "data": {
      "text/plain": [
       "income\n",
       "$25000 - $37499     2013\n",
       "$12500 - $24999     1831\n",
       "$37500 - $49999     1805\n",
       "$100000 or More     1736\n",
       "$50000 - $62499     1659\n",
       "Less than $12500    1042\n",
       "$87500 - $99999      895\n",
       "$75000 - $87499      857\n",
       "$62500 - $74999      846\n",
       "Name: count, dtype: int64"
      ]
     },
     "execution_count": 25,
     "metadata": {},
     "output_type": "execute_result"
    }
   ],
   "source": [
    "data['income'].value_counts()"
   ]
  },
  {
   "cell_type": "code",
   "execution_count": 26,
   "metadata": {},
   "outputs": [
    {
     "data": {
      "text/plain": [
       "car\n",
       "Scooter and motorcycle                      22\n",
       "Mazda5                                      22\n",
       "do not drive                                22\n",
       "crossover                                   21\n",
       "Car that is too old to install Onstar :D    21\n",
       "Name: count, dtype: int64"
      ]
     },
     "execution_count": 26,
     "metadata": {},
     "output_type": "execute_result"
    }
   ],
   "source": [
    "data['car'].value_counts()"
   ]
  },
  {
   "cell_type": "markdown",
   "metadata": {},
   "source": [
    "We can see that some data seem a bit problematic but considering that this column could be dropped, we will see if we need to correct it or not."
   ]
  },
  {
   "cell_type": "code",
   "execution_count": 28,
   "metadata": {},
   "outputs": [
    {
     "data": {
      "text/plain": [
       "Bar\n",
       "never    5197\n",
       "less1    3482\n",
       "1~3      2473\n",
       "4~8      1076\n",
       "gt8       349\n",
       "Name: count, dtype: int64"
      ]
     },
     "execution_count": 28,
     "metadata": {},
     "output_type": "execute_result"
    }
   ],
   "source": [
    "data['Bar'].value_counts()"
   ]
  },
  {
   "cell_type": "code",
   "execution_count": 29,
   "metadata": {},
   "outputs": [
    {
     "data": {
      "text/plain": [
       "CoffeeHouse\n",
       "less1    3385\n",
       "1~3      3225\n",
       "never    2962\n",
       "4~8      1784\n",
       "gt8      1111\n",
       "Name: count, dtype: int64"
      ]
     },
     "execution_count": 29,
     "metadata": {},
     "output_type": "execute_result"
    }
   ],
   "source": [
    "data['CoffeeHouse'].value_counts()"
   ]
  },
  {
   "cell_type": "code",
   "execution_count": 30,
   "metadata": {},
   "outputs": [
    {
     "data": {
      "text/plain": [
       "CarryAway\n",
       "1~3      4672\n",
       "4~8      4258\n",
       "less1    1856\n",
       "gt8      1594\n",
       "never     153\n",
       "Name: count, dtype: int64"
      ]
     },
     "execution_count": 30,
     "metadata": {},
     "output_type": "execute_result"
    }
   ],
   "source": [
    "data['CarryAway'].value_counts()"
   ]
  },
  {
   "cell_type": "code",
   "execution_count": 31,
   "metadata": {},
   "outputs": [
    {
     "data": {
      "text/plain": [
       "RestaurantLessThan20\n",
       "1~3      5376\n",
       "4~8      3580\n",
       "less1    2093\n",
       "gt8      1285\n",
       "never     220\n",
       "Name: count, dtype: int64"
      ]
     },
     "execution_count": 31,
     "metadata": {},
     "output_type": "execute_result"
    }
   ],
   "source": [
    "data['RestaurantLessThan20'].value_counts()"
   ]
  },
  {
   "cell_type": "code",
   "execution_count": 32,
   "metadata": {},
   "outputs": [
    {
     "data": {
      "text/plain": [
       "Restaurant20To50\n",
       "less1    6077\n",
       "1~3      3290\n",
       "never    2136\n",
       "4~8       728\n",
       "gt8       264\n",
       "Name: count, dtype: int64"
      ]
     },
     "execution_count": 32,
     "metadata": {},
     "output_type": "execute_result"
    }
   ],
   "source": [
    "data['Restaurant20To50'].value_counts()"
   ]
  },
  {
   "cell_type": "code",
   "execution_count": 33,
   "metadata": {},
   "outputs": [
    {
     "data": {
      "text/plain": [
       "toCoupon_GEQ5min\n",
       "1    12684\n",
       "Name: count, dtype: int64"
      ]
     },
     "execution_count": 33,
     "metadata": {},
     "output_type": "execute_result"
    }
   ],
   "source": [
    "data['toCoupon_GEQ5min'].value_counts()"
   ]
  },
  {
   "cell_type": "code",
   "execution_count": 34,
   "metadata": {},
   "outputs": [
    {
     "data": {
      "text/plain": [
       "toCoupon_GEQ15min\n",
       "1    7122\n",
       "0    5562\n",
       "Name: count, dtype: int64"
      ]
     },
     "execution_count": 34,
     "metadata": {},
     "output_type": "execute_result"
    }
   ],
   "source": [
    "data['toCoupon_GEQ15min'].value_counts()"
   ]
  },
  {
   "cell_type": "code",
   "execution_count": 35,
   "metadata": {},
   "outputs": [
    {
     "data": {
      "text/plain": [
       "toCoupon_GEQ25min\n",
       "0    11173\n",
       "1     1511\n",
       "Name: count, dtype: int64"
      ]
     },
     "execution_count": 35,
     "metadata": {},
     "output_type": "execute_result"
    }
   ],
   "source": [
    "data['toCoupon_GEQ25min'].value_counts()"
   ]
  },
  {
   "cell_type": "code",
   "execution_count": 36,
   "metadata": {},
   "outputs": [
    {
     "data": {
      "text/plain": [
       "direction_same\n",
       "0    9960\n",
       "1    2724\n",
       "Name: count, dtype: int64"
      ]
     },
     "execution_count": 36,
     "metadata": {},
     "output_type": "execute_result"
    }
   ],
   "source": [
    "data['direction_same'].value_counts()"
   ]
  },
  {
   "cell_type": "code",
   "execution_count": 37,
   "metadata": {},
   "outputs": [
    {
     "data": {
      "text/plain": [
       "direction_opp\n",
       "1    9960\n",
       "0    2724\n",
       "Name: count, dtype: int64"
      ]
     },
     "execution_count": 37,
     "metadata": {},
     "output_type": "execute_result"
    }
   ],
   "source": [
    "data['direction_opp'].value_counts()"
   ]
  },
  {
   "cell_type": "code",
   "execution_count": 38,
   "metadata": {},
   "outputs": [
    {
     "data": {
      "text/plain": [
       "Y\n",
       "1    7210\n",
       "0    5474\n",
       "Name: count, dtype: int64"
      ]
     },
     "execution_count": 38,
     "metadata": {},
     "output_type": "execute_result"
    }
   ],
   "source": [
    "data['Y'].value_counts()"
   ]
  },
  {
   "cell_type": "markdown",
   "metadata": {},
   "source": [
    "After analyzing all the columns of the dataframe, we realize that nearly all the data is already cleaned up, only the `car` column seems problematic and there are also few rows that contains missing data but not enough to to impact the data in general."
   ]
  },
  {
   "cell_type": "markdown",
   "metadata": {
    "id": "bSdVSpYB_qRH"
   },
   "source": [
    "3. Decide what to do about your missing data -- drop, replace, other..."
   ]
  },
  {
   "cell_type": "code",
   "execution_count": 41,
   "metadata": {
    "id": "tyvoAC5F_qRI"
   },
   "outputs": [],
   "source": [
    "data = data.drop(columns=['car'])\n",
    "data = data.dropna()"
   ]
  },
  {
   "cell_type": "markdown",
   "metadata": {},
   "source": [
    "I decided to first drop the `car` column because it had a lot of missing data so it was not going to be valuable for our analysis, then because most of the unknown data was removed, I have decided to drop the remaining rows that contains unknown data to be sure to work only with good data and we can see that we went from 12684 entries to 12079, it means we have lost only 4.8% of the data, so we will do our analysis on 95.2% of the data which seems a very good number and we should avoid wrong analysis."
   ]
  },
  {
   "cell_type": "markdown",
   "metadata": {
    "id": "YE6oJbXd_qRI"
   },
   "source": [
    "4. What proportion of the total observations chose to accept the coupon?\n",
    "\n"
   ]
  },
  {
   "cell_type": "code",
   "execution_count": 44,
   "metadata": {
    "id": "86GGqBTv_qRI"
   },
   "outputs": [
    {
     "data": {
      "text/plain": [
       "0.5693352098683666"
      ]
     },
     "execution_count": 44,
     "metadata": {},
     "output_type": "execute_result"
    }
   ],
   "source": [
    "len(data[data['Y'] == 1]) / len(data)"
   ]
  },
  {
   "cell_type": "markdown",
   "metadata": {},
   "source": [
    "With the ratio of people accepting the coupon divided by the number of people, we realize that approximatively `57%` of the people have accepted the coupon."
   ]
  },
  {
   "cell_type": "markdown",
   "metadata": {
    "id": "vflz0DoE_qRI"
   },
   "source": [
    "5. Use a bar plot to visualize the `coupon` column."
   ]
  },
  {
   "cell_type": "code",
   "execution_count": 47,
   "metadata": {
    "id": "dHFh3E45_qRI"
   },
   "outputs": [
    {
     "data": {
      "text/plain": [
       "Text(0.5, 1.0, 'Representation of the different types of coupons delivered ranked by the number of coupons delivered')"
      ]
     },
     "execution_count": 47,
     "metadata": {},
     "output_type": "execute_result"
    },
    {
     "data": {
      "image/png": "[encoded data removed]",
      "text/plain": [
       "<Figure size 640x480 with 1 Axes>"
      ]
     },
     "metadata": {},
     "output_type": "display_data"
    }
   ],
   "source": [
    "couponBarPlot = sns.countplot(data=data, x='coupon', order=data['coupon'].value_counts().index)\n",
    "couponBarPlot.tick_params(axis='x', labelrotation = 45)\n",
    "couponBarPlot.set_xlabel('Type of Coupon')\n",
    "couponBarPlot.set_ylabel('Number of Coupons delivered')\n",
    "couponBarPlot.set_title('Representation of the different types of coupons delivered ranked by the number of coupons delivered')"
   ]
  },
  {
   "cell_type": "markdown",
   "metadata": {
    "id": "Qw4lCyx2_qRI"
   },
   "source": [
    "6. Use a histogram to visualize the temperature column."
   ]
  },
  {
   "cell_type": "code",
   "execution_count": 49,
   "metadata": {
    "id": "Yg9Anv71_qRI"
   },
   "outputs": [
    {
     "data": {
      "text/plain": [
       "Text(0.5, 1.0, 'Representation of the temperature at the time the coupons got delivered')"
      ]
     },
     "execution_count": 49,
     "metadata": {},
     "output_type": "execute_result"
    },
    {
     "data": {
      "image/png": "[encoded data removed]",
      "text/plain": [
       "<Figure size 640x480 with 1 Axes>"
      ]
     },
     "metadata": {},
     "output_type": "display_data"
    }
   ],
   "source": [
    "temperatureHistogram = sns.histplot(data=data, x='temperature')\n",
    "temperatureHistogram.set_xlabel('Temperature in Fahrenheit')\n",
    "temperatureHistogram.set_ylabel('Number of Coupons delivered')\n",
    "temperatureHistogram.set_title('Representation of the temperature at the time the coupons got delivered')"
   ]
  },
  {
   "cell_type": "markdown",
   "metadata": {
    "id": "FupfgeJk_qRJ"
   },
   "source": [
    "**Investigating the Bar Coupons**\n",
    "\n",
    "Now, we will lead you through an exploration of just the bar related coupons.  \n",
    "\n",
    "1. Create a new `DataFrame` that contains just the bar coupons.\n"
   ]
  },
  {
   "cell_type": "code",
   "execution_count": 51,
   "metadata": {
    "id": "tMBlWuGq_qRJ"
   },
   "outputs": [],
   "source": [
    "barCouponDf=data[data['coupon'] == 'Bar']"
   ]
  },
  {
   "cell_type": "markdown",
   "metadata": {
    "id": "8ue6uCqf_qRJ"
   },
   "source": [
    "2. What proportion of bar coupons were accepted?\n"
   ]
  },
  {
   "cell_type": "code",
   "execution_count": 53,
   "metadata": {
    "id": "hSdte8Mi_qRK"
   },
   "outputs": [
    {
     "data": {
      "text/plain": [
       "0.41191845269210664"
      ]
     },
     "execution_count": 53,
     "metadata": {},
     "output_type": "execute_result"
    }
   ],
   "source": [
    "len(barCouponDf[barCouponDf['Y'] == 1]) / len(barCouponDf)"
   ]
  },
  {
   "cell_type": "markdown",
   "metadata": {},
   "source": [
    "With the ratio of people accepting the bar coupon divided by the number of people that received a bar coupon, we realize that approximatively `41%` of the people have accepted the coupon."
   ]
  },
  {
   "cell_type": "markdown",
   "metadata": {
    "id": "85nA_iEi_qRK"
   },
   "source": [
    "3. Compare the acceptance rate between those who went to a bar 3 or fewer times a month to those who went more.\n"
   ]
  },
  {
   "cell_type": "code",
   "execution_count": 56,
   "metadata": {
    "id": "LBOrN-XM_qRK"
   },
   "outputs": [
    {
     "name": "stdout",
     "output_type": "stream",
     "text": [
      "Ratio for people who went to a bar 3 or fewer times a month: 0.37267441860465117\n",
      "Ratio for people who went to a bar 4 or more times a month: 0.7616580310880829\n"
     ]
    }
   ],
   "source": [
    "barCouponDfLessthan3 = barCouponDf.query('not Bar in [\"4~8\", \"gt8\"]')\n",
    "barCouponDfMorethan4 = barCouponDf.query('Bar in [\"4~8\", \"gt8\"]')\n",
    "print(\"Ratio for people who went to a bar 3 or fewer times a month: \"\n",
    "      + str(len(barCouponDfLessthan3[barCouponDfLessthan3['Y'] == 1]) / len(barCouponDfLessthan3)))\n",
    "print(\"Ratio for people who went to a bar 4 or more times a month: \"\n",
    "      + str(len(barCouponDfMorethan4[barCouponDfMorethan4['Y'] == 1]) / len(barCouponDfMorethan4)))"
   ]
  },
  {
   "cell_type": "markdown",
   "metadata": {},
   "source": [
    "The results shows us that the number of people that goes to the bar more than 4 times a month uses their coupons for `76%` of them when people going less than 3 times a month are using it at `37%` which shows us that targeting people that goes to the bar more than 4 times a month with Bar coupons is a very good choice because there is a market but another interesting part it's that if we remember above, the global ratio was `41%` which means that even if the people going 4 times a month or more are a very responsive market, it is also a very small market compare to the number of people going less than 3 times a month."
   ]
  },
  {
   "cell_type": "markdown",
   "metadata": {
    "id": "RBgcQwH4_qRK"
   },
   "source": [
    "4. Compare the acceptance rate between drivers who go to a bar more than once a month and are over the age of 25 to the all others.  Is there a difference?\n"
   ]
  },
  {
   "cell_type": "code",
   "execution_count": 59,
   "metadata": {
    "id": "bf28bbeX_qRK"
   },
   "outputs": [
    {
     "name": "stdout",
     "output_type": "stream",
     "text": [
      "Ratio for people who are over the age of 25 and went to a bar 1 or more times a month: 0.6903914590747331\n",
      "Ratio for the other people: 0.29607698001480387\n"
     ]
    }
   ],
   "source": [
    "barCouponDfMore1Over25 = barCouponDf.query('not Bar in [\"never\", \"less1\"] and not age in [21, \"below21\"]')\n",
    "barCouponDfOtherThanMore1Over25 = barCouponDf.query('Bar in [\"never\", \"less1\"] or age in [21, \"below21\"]')\n",
    "print(\"Ratio for people who are over the age of 25 and went to a bar 1 or more times a month: \"\n",
    "      + str(len(barCouponDfMore1Over25[barCouponDfMore1Over25['Y'] == 1]) / len(barCouponDfMore1Over25)))\n",
    "print(\"Ratio for the other people: \"\n",
    "      + str(len(barCouponDfOtherThanMore1Over25[barCouponDfOtherThanMore1Over25['Y'] == 1]) / len(barCouponDfOtherThanMore1Over25)))"
   ]
  },
  {
   "cell_type": "markdown",
   "metadata": {},
   "source": [
    "The results shows us that the people aged more than 25 years old and going to the bar more than once a month are `69%` to use their coupon against approximatively `30%` for the other people which is a very important scenario because following our general `41%`, we can see that both results are respectively 11% and 28% away from the general result: it proves us that the number of people aged more than 25 years old and going to the bar more than once a month is a sample of pretty good size and they are responsive so it's a pretty good target for the market!"
   ]
  },
  {
   "cell_type": "markdown",
   "metadata": {
    "id": "S4RKT4PJ_qRK"
   },
   "source": [
    "5. Use the same process to compare the acceptance rate between drivers who go to bars more than once a month and had passengers that were not a kid and had occupations other than farming, fishing, or forestry.\n"
   ]
  },
  {
   "cell_type": "code",
   "execution_count": 62,
   "metadata": {
    "id": "sENaI2Tg_qRK"
   },
   "outputs": [
    {
     "name": "stdout",
     "output_type": "stream",
     "text": [
      "Ratio for people who are respecting the condition above: 0.7142857142857143\n",
      "Ratio for the other people: 0.37877030162412995\n"
     ]
    }
   ],
   "source": [
    "barCouponDfMore1HasPassangerNoKidsNotFarmFishForest = barCouponDf.query(\n",
    "    'not Bar in [\"never\", \"less1\"] and not passanger in [\"Alone\", \"Kid(s)\"] and occupation != \"Farming Fishing & Forestry\"')\n",
    "barCouponDfOtherThanMore1HasPassangerNoKidsNotFarmFishForest = barCouponDf.query(\n",
    "    'Bar in [\"never\", \"less1\"] or passanger in [\"Alone\", \"Kid(s)\"] or occupation == \"Farming Fishing & Forestry\"')\n",
    "print(\"Ratio for people who are respecting the condition above: \"\n",
    "      + str(len(barCouponDfMore1HasPassangerNoKidsNotFarmFishForest[barCouponDfMore1HasPassangerNoKidsNotFarmFishForest['Y'] == 1]) / len(barCouponDfMore1HasPassangerNoKidsNotFarmFishForest)))\n",
    "print(\"Ratio for the other people: \"\n",
    "      + str(len(barCouponDfOtherThanMore1HasPassangerNoKidsNotFarmFishForest[barCouponDfOtherThanMore1HasPassangerNoKidsNotFarmFishForest['Y'] == 1]) / len(barCouponDfOtherThanMore1HasPassangerNoKidsNotFarmFishForest)))"
   ]
  },
  {
   "cell_type": "markdown",
   "metadata": {},
   "source": [
    "The results shows us that approximatively `71%` of the people who are going to bar more than once a month, had passengers that were not a kid and had occupations other than farming, fishing, or forestry have used their coupons; against approximatively `38%` for the other people. Compared to our generalize percentage of `41%`, we can realize that the sample representing this criteria is very low so it could not be a main target for our market but it could still be interesting to have these potential consumers as targets of a bigger group of targets."
   ]
  },
  {
   "cell_type": "markdown",
   "metadata": {
    "id": "n2LIUTil_qRK"
   },
   "source": [
    "6. Compare the acceptance rates between those drivers who:\n",
    "\n",
    "- go to bars more than once a month, had passengers that were not a kid, and were not widowed *OR*\n",
    "- go to bars more than once a month and are under the age of 30 *OR*\n",
    "- go to cheap restaurants more than 4 times a month and income is less than 50K.\n",
    "\n"
   ]
  },
  {
   "cell_type": "code",
   "execution_count": 65,
   "metadata": {
    "id": "aK_wEzx7_qRK"
   },
   "outputs": [
    {
     "name": "stdout",
     "output_type": "stream",
     "text": [
      "Ratio for the people who are respecting the condition above: 0.5329218106995884\n",
      "Number of people impacted: 486\n"
     ]
    }
   ],
   "source": [
    "barCouponDfCombinedData = barCouponDf.query(\n",
    "    '(not Bar in [\"never\", \"less1\"] and not passanger in [\"Alone\", \"Kid(s)\"] and maritalStatus != \"Widowed\")'\n",
    "    + ' or (not Bar in [\"never\", \"less1\"] and age in [\"below21\", 21, 26])'\n",
    "    + ' or (RestaurantLessThan20 in [\"4~8\", \"gt8\"] and income in [\"Less than $12500\", \"$12500 - $24999\", \"$25000 - $37499\", \"$37500 - $49999\"])'\n",
    ")\n",
    "print(\"Ratio for the people who are respecting the condition above: \"\n",
    "      + str(len(barCouponDfCombinedData[barCouponDfCombinedData['Y'] == 1]) / len(barCouponDfCombinedData)))\n",
    "print(\"Number of people impacted: \" + str(len(barCouponDfCombinedData)))"
   ]
  },
  {
   "cell_type": "markdown",
   "metadata": {},
   "source": [
    "This result is showing us an improvement of `12%` compare to the average which could be interesting especially that the sample represent a quarter of the people that received a coupon so it could be a good market target."
   ]
  },
  {
   "cell_type": "markdown",
   "metadata": {
    "id": "v3fL3QkO_qRK"
   },
   "source": [
    "7.  Based on these observations, what do you hypothesize about drivers who accepted the bar coupons?"
   ]
  },
  {
   "cell_type": "markdown",
   "metadata": {
    "id": "Y48naDFh_qRL"
   },
   "source": [
    "Based on these observations, I think the success rate of this coupons could be very high if we were focused on sending coupons to the people that are used to go to bars at least once a month and aged more than 25 because the statistics of usage are very high and it is a good amount of the population. Then for the future I think it would be interesting to start a new campain of coupons, focused on this type of people and see the results to see if the behavior becomes generalized on multiple experiences and if not we will use the data of this experience and the next one to recreate a target audience for our coupons."
   ]
  },
  {
   "cell_type": "markdown",
   "metadata": {
    "id": "r4Hu1zOb_qRL"
   },
   "source": [
    "### Independent Investigation\n",
    "\n",
    "Using the bar coupon example as motivation, you are to explore one of the other coupon groups and try to determine the characteristics of passengers who accept the coupons.  "
   ]
  },
  {
   "cell_type": "markdown",
   "metadata": {
    "id": "0c71cQhu_qRL"
   },
   "source": [
    "For this investigation, I picked the `Coffee House` coupons because they are the coupons that has been the most distributed to the people so I want see if it got positive results or if maybe this choice should be reconsidered."
   ]
  },
  {
   "cell_type": "code",
   "execution_count": 71,
   "metadata": {
    "id": "QEsBkvIN_qRL"
   },
   "outputs": [],
   "source": [
    "coffeeCouponDf = data[data['coupon'] == 'Coffee House']"
   ]
  },
  {
   "cell_type": "code",
   "execution_count": 72,
   "metadata": {
    "id": "RrqUWn7d_qRL"
   },
   "outputs": [
    {
     "data": {
      "text/plain": [
       "0.49633123689727465"
      ]
     },
     "execution_count": 72,
     "metadata": {},
     "output_type": "execute_result"
    }
   ],
   "source": [
    "len(coffeeCouponDf[coffeeCouponDf['Y'] == 1]) / len(coffeeCouponDf)"
   ]
  },
  {
   "cell_type": "markdown",
   "metadata": {},
   "source": [
    "We already have a very interesting data doing the ratio of people using the Coffee House coupon in general because it is the coupon the most distributed but the average of usage for this coupon is approximatively `7%` under the average of usage of the coupons."
   ]
  },
  {
   "cell_type": "markdown",
   "metadata": {},
   "source": [
    "For this investigation, I have changed my approach to start by using plots and get an idea of which columns impact the most the usage of coupons and which values seem to have the best/worse ratio of coupon usage per people receiving a coupon. After doing some researches, I found that most of the columns/values are just having proportional results between the number of people and the number of coupon used, here are the columns I found that have an impact that is changing with the values:"
   ]
  },
  {
   "cell_type": "code",
   "execution_count": 75,
   "metadata": {
    "id": "_oykf8YP_qRL"
   },
   "outputs": [
    {
     "data": {
      "image/png": "[encoded data removed]",
      "text/plain": [
       "<Figure size 640x480 with 2 Axes>"
      ]
     },
     "metadata": {},
     "output_type": "display_data"
    }
   ],
   "source": [
    "timeFig, timeAxs = plt.subplots(ncols=2)\n",
    "timePlot0 = sns.countplot(data=coffeeCouponDf[coffeeCouponDf['Y'] == 1], x='time', ax=timeAxs[0], order=data['time'].value_counts().index)\n",
    "timePlot1 = sns.countplot(data=coffeeCouponDf, x='time', ax=timeAxs[1], order=data['time'].value_counts().index)\n",
    "timePlot0.tick_params(axis='x', labelrotation = 90)\n",
    "timePlot0.set_title('Number of coupons used\\ndepending on the time\\nwhere the coupon is received')\n",
    "timePlot0.set_xlabel('Time when the coupon is received')\n",
    "timePlot0.set_ylabel('Count of coupons used')\n",
    "timePlot1.set_title('Number of people receiving a coupon\\ndepending on the time of the day')\n",
    "timePlot1.set_xlabel('Time when the coupon is received')\n",
    "timePlot1.set_ylabel('Count of people that received a coupon')\n",
    "timePlot1.tick_params(axis='x', labelrotation = 90)\n",
    "plt.subplots_adjust(wspace = 0.9)"
   ]
  },
  {
   "cell_type": "markdown",
   "metadata": {},
   "source": [
    "In this plot we can see that the ratio seem great at 10am, we are probably around 60-65% of usage so it will be very interesting to dig into this result. On the other side, for example at 6pm the results seem to be around 40% which will not be interesting for us to improve the usage of the coupons because it's even under our average of usage for the Coffee House coupons."
   ]
  },
  {
   "cell_type": "code",
   "execution_count": 77,
   "metadata": {},
   "outputs": [
    {
     "data": {
      "image/png": "[encoded data removed]",
      "text/plain": [
       "<Figure size 640x480 with 2 Axes>"
      ]
     },
     "metadata": {},
     "output_type": "display_data"
    }
   ],
   "source": [
    "expirationFig, expirationAxs = plt.subplots(ncols=2)\n",
    "expirationPlot0 = sns.countplot(data=coffeeCouponDf[coffeeCouponDf['Y'] == 1], x='expiration', ax=expirationAxs[0], order=data['expiration'].value_counts().index)\n",
    "expirationPlot1 = sns.countplot(data=coffeeCouponDf, x='expiration', ax=expirationAxs[1], order=data['expiration'].value_counts().index)\n",
    "expirationPlot0.tick_params(axis='x', labelrotation = 90)\n",
    "expirationPlot0.tick_params(axis='x', labelrotation = 90)\n",
    "expirationPlot0.set_title('Number of coupons used\\ndepending on the time\\n before the coupon expires')\n",
    "expirationPlot0.set_xlabel('Time before the coupon expires')\n",
    "expirationPlot0.set_ylabel('Count of coupons used')\n",
    "expirationPlot1.set_title('Number of people receiving a coupon\\ndepending on the time before\\nthe coupon expires')\n",
    "expirationPlot1.set_xlabel('Time before the coupon expires')\n",
    "expirationPlot1.set_ylabel('Count of people that received a coupon')\n",
    "expirationPlot1.tick_params(axis='x', labelrotation = 90)\n",
    "plt.subplots_adjust(wspace = 0.9)"
   ]
  },
  {
   "cell_type": "markdown",
   "metadata": {},
   "source": [
    "In this plot we can see that the ratio seem to be good for coupons that expire 1 day after, we can expect something around 55-60%. On the other side the coupons that expires 2 hours after seem to have a usage rate approximatively around 42-46% which is lower than our average so it seems that it's impacting negatively the usage of the coupons."
   ]
  },
  {
   "cell_type": "code",
   "execution_count": 79,
   "metadata": {},
   "outputs": [
    {
     "data": {
      "image/png": "[encoded data removed]",
      "text/plain": [
       "<Figure size 640x480 with 2 Axes>"
      ]
     },
     "metadata": {},
     "output_type": "display_data"
    }
   ],
   "source": [
    "coffeeHouseFig, coffeeHouseAxs = plt.subplots(ncols=2)\n",
    "coffeeHousePlot0 = sns.countplot(data=coffeeCouponDf[coffeeCouponDf['Y'] == 1], x='CoffeeHouse', ax=coffeeHouseAxs[0], order=data['CoffeeHouse'].value_counts().index)\n",
    "coffeeHousePlot1 = sns.countplot(data=coffeeCouponDf, x='CoffeeHouse', ax=coffeeHouseAxs[1], order=data['CoffeeHouse'].value_counts().index)\n",
    "coffeeHousePlot0.tick_params(axis='x', labelrotation = 90)\n",
    "coffeeHousePlot0.set_title('Number of coupons used depending\\non the number of time people\\ngo to a Coffee House')\n",
    "coffeeHousePlot0.set_xlabel('Number of time going to a Coffee House')\n",
    "coffeeHousePlot0.set_ylabel('Count of coupons used')\n",
    "coffeeHousePlot1.set_title('Number of people receiving a coupon\\ndepending on the number of time\\nthey go to a Coffee House')\n",
    "coffeeHousePlot1.set_xlabel('Number of time going to a Coffee House')\n",
    "coffeeHousePlot1.set_ylabel('Count of people that received a coupon')\n",
    "coffeeHousePlot1.tick_params(axis='x', labelrotation = 90)\n",
    "plt.subplots_adjust(wspace = 0.9)"
   ]
  },
  {
   "cell_type": "markdown",
   "metadata": {},
   "source": [
    "In this plot we can see that people going to the Coffee House 1 to 3 times (which represent a big amount of the data) can be a very good target for coupon usage because they seem to have approximatively 62-68% ratio of usage of the coupons when on the other side people that never go to the Coffee House seem to be a very bad target, they look to have around 15-20% of usage."
   ]
  },
  {
   "cell_type": "markdown",
   "metadata": {},
   "source": [
    "Now that we have been able to find the values and columns that impacts the most the usage of the Coffee House coupons, let's see what improvements we can do combining them:"
   ]
  },
  {
   "cell_type": "code",
   "execution_count": 82,
   "metadata": {},
   "outputs": [
    {
     "name": "stdout",
     "output_type": "stream",
     "text": [
      "Ratio for the people who are receiving their coupon at 10am, valid for 1 day and going 1 to 3 times to Coffee House: 0.75\n",
      "Number of people impacted: 72\n"
     ]
    }
   ],
   "source": [
    "coffeeHouseDfT10AMExp1dCH13 = coffeeCouponDf.query(\n",
    "    'time == \"10AM\" and expiration == \"1d\" and CoffeeHouse == \"1~3\"' \n",
    ")\n",
    "print(\"Ratio for the people who are receiving their coupon at 10am, valid for 1 day and going 1 to 3 times to Coffee House: \"\n",
    "     + str(len(coffeeHouseDfT10AMExp1dCH13[coffeeHouseDfT10AMExp1dCH13['Y'] == 1]) / len(coffeeHouseDfT10AMExp1dCH13)))\n",
    "print(\"Number of people impacted: \" + str(len(coffeeHouseDfT10AMExp1dCH13)))"
   ]
  },
  {
   "cell_type": "markdown",
   "metadata": {},
   "source": [
    "This result shows us that combining all the most efficient values for the time of the day, the expiration time and the Coffee House routine gives us good results for the usage of the coupons but unfortunately it's targeting a very small amount of people so it's not interesting as a main target of customer, it can only be a part of a major target of customers."
   ]
  },
  {
   "cell_type": "code",
   "execution_count": 84,
   "metadata": {},
   "outputs": [
    {
     "name": "stdout",
     "output_type": "stream",
     "text": [
      "Ratio for the people who are receiving a coupon valid for 1 day and going 1 to 3 times to Coffee House: 0.7382075471698113\n",
      "Number of people impacted: 424\n"
     ]
    }
   ],
   "source": [
    "coffeeHouseDfExp1dCH13 = coffeeCouponDf.query(\n",
    "    'expiration == \"1d\" and CoffeeHouse == \"1~3\"'\n",
    ")\n",
    "print(\"Ratio for the people who are receiving a coupon valid for 1 day and going 1 to 3 times to Coffee House: \"\n",
    "     + str(len(coffeeHouseDfExp1dCH13[coffeeHouseDfExp1dCH13['Y'] == 1]) / len(coffeeHouseDfExp1dCH13)))\n",
    "print(\"Number of people impacted: \" + str(len(coffeeHouseDfExp1dCH13)))"
   ]
  },
  {
   "cell_type": "markdown",
   "metadata": {},
   "source": [
    "This result shows us that we have good results combining only two of the good values found before so it could be interesting to dig into the other double combination because it can give us good result and also keep the spectrum of data large enough, for example in this case we could have a start of potential market."
   ]
  },
  {
   "cell_type": "code",
   "execution_count": 86,
   "metadata": {},
   "outputs": [
    {
     "name": "stdout",
     "output_type": "stream",
     "text": [
      "Ratio for the people who are receiving their coupon at 10am and valid for 1 day: 0.6461538461538462\n",
      "Number of people impacted: 325\n"
     ]
    }
   ],
   "source": [
    "coffeeHouseDfT10AMExp1d = coffeeCouponDf.query(\n",
    "    'time == \"10AM\" and expiration == \"1d\"'\n",
    ")\n",
    "print(\"Ratio for the people who are receiving their coupon at 10am and valid for 1 day: \"\n",
    "     + str(len(coffeeHouseDfT10AMExp1d[coffeeHouseDfT10AMExp1d['Y'] == 1]) / len(coffeeHouseDfT10AMExp1d)))\n",
    "print(\"Number of people impacted: \" + str(len(coffeeHouseDfT10AMExp1d)))"
   ]
  },
  {
   "cell_type": "markdown",
   "metadata": {},
   "source": [
    "This result still show us good result compare to the average and on a decent sample."
   ]
  },
  {
   "cell_type": "code",
   "execution_count": 88,
   "metadata": {},
   "outputs": [
    {
     "name": "stdout",
     "output_type": "stream",
     "text": [
      "Ratio for the people who are receiving their coupon at 10am and going 1 to 3 times to Coffee House: 0.8046511627906977\n",
      "Number of people impacted: 215\n"
     ]
    }
   ],
   "source": [
    "coffeeHouseDfT10AMCH13 = coffeeCouponDf.query(\n",
    "    'time == \"10AM\" and CoffeeHouse == \"1~3\"'\n",
    ")\n",
    "print(\"Ratio for the people who are receiving their coupon at 10am and going 1 to 3 times to Coffee House: \"\n",
    "     + str(len(coffeeHouseDfT10AMCH13[coffeeHouseDfT10AMCH13['Y'] == 1]) / len(coffeeHouseDfT10AMCH13)))\n",
    "print(\"Number of people impacted: \" + str(len(coffeeHouseDfT10AMCH13)))"
   ]
  },
  {
   "cell_type": "markdown",
   "metadata": {},
   "source": [
    "This result is showing us great result, even better than the three values combined and it has a sample nearly three times the size of the one with the three values."
   ]
  },
  {
   "cell_type": "markdown",
   "metadata": {},
   "source": [
    "Now that we have tested all the different double combinations, we realize that they all have pretty good results and the samples are of decent sizes but it would be better to work on a bigger sample so let's try to combine them and see the results:"
   ]
  },
  {
   "cell_type": "code",
   "execution_count": 91,
   "metadata": {},
   "outputs": [
    {
     "name": "stdout",
     "output_type": "stream",
     "text": [
      "Ratio for the people who are respecting the condition above: 0.7170731707317073\n",
      "Number of people impacted: 820\n"
     ]
    }
   ],
   "source": [
    "coffeeHouseDfCombinedData = coffeeCouponDf.query(\n",
    "    '(expiration == \"1d\" and CoffeeHouse == \"1~3\")'\n",
    "    + ' or (time == \"10AM\" and CoffeeHouse == \"1~3\")'\n",
    "    + ' or (time == \"10AM\" and expiration == \"1d\")'\n",
    ")\n",
    "print(\"Ratio for the people who are respecting the condition above: \"\n",
    "     + str(len(coffeeHouseDfCombinedData[coffeeHouseDfCombinedData['Y'] == 1]) / len(coffeeHouseDfCombinedData)))\n",
    "print(\"Number of people impacted: \" + str(len(coffeeHouseDfCombinedData)))"
   ]
  },
  {
   "cell_type": "markdown",
   "metadata": {},
   "source": [
    "With the combine result we realize that we get an acceptance rate of approximatively `72%` which is approximatively `22%` higher than the average for a sample that is close to a quarter of the data so we found a very good target to focus on for the distribution of coupons."
   ]
  },
  {
   "cell_type": "markdown",
   "metadata": {},
   "source": [
    "Finally I would like to focus a bit on the data decreasing the statistics to see if it could also be interesting to remove a part of the audience to have an easy improvement of the statistics so let's see the lower statistic we found:"
   ]
  },
  {
   "cell_type": "code",
   "execution_count": 94,
   "metadata": {},
   "outputs": [
    {
     "name": "stdout",
     "output_type": "stream",
     "text": [
      "Ratio for the people who are never going to the Coffee House: 0.17522321428571427\n",
      "Number of people impacted: 896\n",
      "Ratio for the people who are going to the Coffee House: 0.5948630136986301\n",
      "Number of people impacted: 2920\n"
     ]
    }
   ],
   "source": [
    "coffeeHouseDfCHNever = coffeeCouponDf.query(\n",
    "     'CoffeeHouse == \"never\"'\n",
    ")\n",
    "print(\"Ratio for the people who are never going to the Coffee House: \"\n",
    "     + str(len(coffeeHouseDfCHNever[coffeeHouseDfCHNever['Y'] == 1]) / len(coffeeHouseDfCHNever)))\n",
    "print(\"Number of people impacted: \" + str(len(coffeeHouseDfCHNever)))\n",
    "coffeeHouseDfCHOther = coffeeCouponDf.query(\n",
    "     'CoffeeHouse != \"never\"'\n",
    ")\n",
    "print(\"Ratio for the people who are going to the Coffee House: \"\n",
    "     + str(len(coffeeHouseDfCHOther[coffeeHouseDfCHOther['Y'] == 1]) / len(coffeeHouseDfCHOther)))\n",
    "print(\"Number of people impacted: \" + str(len(coffeeHouseDfCHOther)))"
   ]
  },
  {
   "cell_type": "markdown",
   "metadata": {},
   "source": [
    "This result shows us that a very easy way to gain approximatively `10%` in the acceptance rate is just by not sending coupons to people never going to the Coffee House because their acceptence rate is very low with 17.5% but they still represent approximatively one quarter of the total amount of people."
   ]
  },
  {
   "cell_type": "markdown",
   "metadata": {},
   "source": [
    "Now for the next steps the company will have to chose if they prefer to focus on giving very large amount of coupons or not, in the case of choosing a large amount of coupon I would advise to not send it to people that never go to the Coffee House, on the other side if they prefer to send a restricted amount of coupons and focus on a more reactive market I would advise them to send coupons thinking about always respecting two of these three categories: have a coupon valid for one day, send it at 10am and send it to people going 1 to 3 times to the Coffee House."
   ]
  }
 ],
 "metadata": {
  "colab": {
   "provenance": []
  },
  "kernelspec": {
   "display_name": "Python 3 (ipykernel)",
   "language": "python",
   "name": "python3"
  },
  "language_info": {
   "codemirror_mode": {
    "name": "ipython",
    "version": 3
   },
   "file_extension": ".py",
   "mimetype": "text/x-python",
   "name": "python",
   "nbconvert_exporter": "python",
   "pygments_lexer": "ipython3",
   "version": "3.12.2"
  }
 },
 "nbformat": 4,
 "nbformat_minor": 4
}
